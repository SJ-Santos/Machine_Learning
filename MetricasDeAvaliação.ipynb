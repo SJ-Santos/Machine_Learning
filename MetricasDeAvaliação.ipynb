{
  "nbformat": 4,
  "nbformat_minor": 0,
  "metadata": {
    "colab": {
      "provenance": []
    },
    "kernelspec": {
      "name": "python3",
      "display_name": "Python 3"
    },
    "language_info": {
      "name": "python"
    }
  },
  "cells": [
    {
      "cell_type": "markdown",
      "source": [
        "**Metricas de Avaliação**\n"
      ],
      "metadata": {
        "id": "8ymnVyLhkoOM"
      }
    },
    {
      "cell_type": "markdown",
      "source": [
        "Metricas de avaliação oque são : Métricas de avaliação são ferramentas matemáticas que usamos para medir o desempenho de um modelo de machine learning"
      ],
      "metadata": {
        "id": "yk4yvTBedo09"
      }
    },
    {
      "cell_type": "code",
      "execution_count": 1,
      "metadata": {
        "id": "WqQSrnP6diun"
      },
      "outputs": [],
      "source": [
        "from sklearn.datasets import load_iris\n",
        "from sklearn.model_selection import train_test_split\n",
        "from sklearn.tree import DecisionTreeClassifier\n",
        "from sklearn.metrics import confusion_matrix\n",
        "import numpy as np"
      ]
    },
    {
      "cell_type": "code",
      "source": [
        "#dataset\n",
        "data = load_iris()\n",
        "x = data.data\n",
        "y = data.target\n",
        "\n",
        "#Retirando a terceira classe para ser um problema binario\n",
        "mask = (y == 0) | (y == 1)\n",
        "x = x[mask]\n",
        "y = y[mask]\n",
        "\n",
        "#modelo\n",
        "x_train, x_test, y_train, y_test = train_test_split(x, y, test_size=0.3)\n",
        "model = DecisionTreeClassifier(random_state=42)\n",
        "model.fit(x_train, y_train)\n",
        "\n",
        "Y_pred = model.predict(x_test)\n",
        "\n",
        "cm = confusion_matrix(y_test, Y_pred) #matriz de confusão\n",
        "print(cm)\n",
        "\n",
        "VP, VN, FP, FN = cm[0][0], cm[1][1], cm[1][0], cm[0][1] #pega os verdadeiros positivos(VP) , Verdadeiros negactivos(VN) , Falso Positivo(FP) , Falso Negativo(FN)"
      ],
      "metadata": {
        "colab": {
          "base_uri": "https://localhost:8080/"
        },
        "id": "XztS7LdLgsV8",
        "outputId": "7546b597-55d2-4017-bcc3-391663a599fe"
      },
      "execution_count": 3,
      "outputs": [
        {
          "output_type": "stream",
          "name": "stdout",
          "text": [
            "[[15  0]\n",
            " [ 0 15]]\n"
          ]
        }
      ]
    },
    {
      "cell_type": "code",
      "source": [
        "#metricas\n",
        "if VP == 0:\n",
        "  sensibilidade = 0\n",
        "else:\n",
        "  sensibilidade = (VP)/(VP+FN)  #recall\n",
        "\n",
        "if VN == 0:\n",
        "  especificidade = 0\n",
        "else:\n",
        "  especificidade = (VN)/(VN+FP) #True Negative Rate\n",
        "\n",
        "if VP+VN == 0:\n",
        "  acuracia = 0\n",
        "else:\n",
        "  acuracia = (VP+VN)/(VP+VN+FP+FN) #accuracy\n",
        "\n",
        "if VP == 0:\n",
        "  precisao = 0\n",
        "else:\n",
        "  precisao = (VP)/(VP+FP) #Precision\n",
        "\n",
        "if precisao*sensibilidade == 0:\n",
        "  F1 = 0\n",
        "else:\n",
        "  F1 = 2*(precisao*sensibilidade)/(precisao+sensibilidade) #F1 Score\n",
        "\n",
        "  print(f\"Sensibilidade: {sensibilidade}\")\n",
        "  print(f\"Especificidade: {especificidade}\")\n",
        "  print(f\"Acurácia: {acuracia}\")\n",
        "  print(f\"Precisão: {precisao}\")\n",
        "  print(f\"F1 Score: {F1}\")\n"
      ],
      "metadata": {
        "id": "m_B2KW-ChnI1"
      },
      "execution_count": 4,
      "outputs": []
    }
  ]
}