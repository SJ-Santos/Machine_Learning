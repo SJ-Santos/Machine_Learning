{
  "cells": [
    {
      "cell_type": "markdown",
      "id": "4d17c66f",
      "metadata": {
        "id": "4d17c66f"
      },
      "source": [
        " <h align=centre><font size = 8, style=\"color:rgb(200,0,0)\">Atividade: Regressão Linear</font></h>"
      ]
    },
    {
      "cell_type": "markdown",
      "id": "c03e81b5-5852-40a6-9732-4eacec0126d1",
      "metadata": {
        "id": "c03e81b5-5852-40a6-9732-4eacec0126d1"
      },
      "source": [
        "**Importanto a biblioteca a ser utilizada**"
      ]
    },
    {
      "cell_type": "code",
      "execution_count": 30,
      "id": "e753ee18",
      "metadata": {
        "id": "e753ee18"
      },
      "outputs": [],
      "source": [
        "import pandas as pd\n",
        "import numpy as np"
      ]
    },
    {
      "cell_type": "markdown",
      "id": "eb7863ac-b70b-4d44-9ac8-918d27c210e3",
      "metadata": {
        "id": "eb7863ac-b70b-4d44-9ac8-918d27c210e3",
        "tags": [],
        "toc-hr-collapsed": true
      },
      "source": [
        "# QUESTÃO 01"
      ]
    },
    {
      "cell_type": "markdown",
      "id": "f9b24360-47e8-4a8e-9aa1-09a1ac99e40c",
      "metadata": {
        "id": "f9b24360-47e8-4a8e-9aa1-09a1ac99e40c"
      },
      "source": [
        "Na\t engenharia de\t recursos\t hídricos\t a\t estimativa dos\t tamanhos\t dos reservatórios\t depende\t de\testimativas\tacuradas\t do\tescoamento\t da\tágua\t do\t rio\t que\testá sendo\tconfinado.\tEm\talguns\trios,\tregistros\thistóricos\tde\tlonga\tduração\tde\t tais\tdados\tde\tescoamento\t são\t difíceis\t de\t obter.\t Já\t os\t dados\t meteorológicos\t sobre precipitação\t estão\tdisponíveis\t para\t muitos\t anos\t do\t passado.\t Portanto,\t é\t útil\t determinar\t a\t relação\t entre\tescoamento\te\tprecipitação.\t<br>\n",
        "Essa\t relação\t pode\t ser\t usada\t para\t fazer\t uma\t estimativa\t do\t escoamento\t nos\tanos\tnos\tquais\tapenas\tmedidas\tde\tprecipitação\tforam\tfeitos.\tOs\tseguintes\tdados\testão\tdisponíveis\tpara\tum\trio\tque\tdeve\tser\testancado:\n",
        "\n",
        "Precipitação [cm/ano] e Escoamento [m3/s]\n"
      ]
    },
    {
      "cell_type": "markdown",
      "id": "fa4c74a8-67c6-4c15-9ff6-d3b3bbabf7a5",
      "metadata": {
        "id": "fa4c74a8-67c6-4c15-9ff6-d3b3bbabf7a5"
      },
      "source": [
        "a) Calcula através do método de regressão linear a função que melhor ajusta aos dados <br>\n",
        "b) Determine o coeficiente de correlação dos dados. <br>\n",
        "c) Utilize a função da reta para prever o escoamento se a precipitação for de (cm)\n",
        "- 55.5\n",
        "- 66.4\n",
        "- 22.1\n",
        "- 1\n",
        "<br>\n",
        "d) Faça\tuma\testimativa\tde\tescoamento\tpara\t140 cm/ano"
      ]
    },
    {
      "cell_type": "markdown",
      "id": "f8e69b01-e9ef-4aaf-bfbc-6f5d418e7c99",
      "metadata": {
        "id": "f8e69b01-e9ef-4aaf-bfbc-6f5d418e7c99"
      },
      "source": [
        "## Base de Dados"
      ]
    },
    {
      "cell_type": "code",
      "execution_count": 31,
      "id": "8d6cc682-79b7-4638-9e09-1e449fd05678",
      "metadata": {
        "id": "8d6cc682-79b7-4638-9e09-1e449fd05678",
        "outputId": "55bb1e63-0c08-48cd-aaad-9b56637c9267",
        "tags": []
      },
      "outputs": [
        {
          "data": {
            "text/html": [
              "<div>\n",
              "<style scoped>\n",
              "    .dataframe tbody tr th:only-of-type {\n",
              "        vertical-align: middle;\n",
              "    }\n",
              "\n",
              "    .dataframe tbody tr th {\n",
              "        vertical-align: top;\n",
              "    }\n",
              "\n",
              "    .dataframe thead th {\n",
              "        text-align: right;\n",
              "    }\n",
              "</style>\n",
              "<table border=\"1\" class=\"dataframe\">\n",
              "  <thead>\n",
              "    <tr style=\"text-align: right;\">\n",
              "      <th></th>\n",
              "      <th>Precipitação</th>\n",
              "      <th>Escoamento</th>\n",
              "    </tr>\n",
              "  </thead>\n",
              "  <tbody>\n",
              "    <tr>\n",
              "      <th>0</th>\n",
              "      <td>88.9</td>\n",
              "      <td>14.6</td>\n",
              "    </tr>\n",
              "    <tr>\n",
              "      <th>1</th>\n",
              "      <td>108.5</td>\n",
              "      <td>16.7</td>\n",
              "    </tr>\n",
              "    <tr>\n",
              "      <th>2</th>\n",
              "      <td>104.1</td>\n",
              "      <td>15.3</td>\n",
              "    </tr>\n",
              "    <tr>\n",
              "      <th>3</th>\n",
              "      <td>139.7</td>\n",
              "      <td>23.2</td>\n",
              "    </tr>\n",
              "    <tr>\n",
              "      <th>4</th>\n",
              "      <td>127.0</td>\n",
              "      <td>19.5</td>\n",
              "    </tr>\n",
              "  </tbody>\n",
              "</table>\n",
              "</div>"
            ],
            "text/plain": [
              "   Precipitação  Escoamento\n",
              "0          88.9        14.6\n",
              "1         108.5        16.7\n",
              "2         104.1        15.3\n",
              "3         139.7        23.2\n",
              "4         127.0        19.5"
            ]
          },
          "execution_count": 31,
          "metadata": {},
          "output_type": "execute_result"
        }
      ],
      "source": [
        "v1 = [88.9, 108.5, 104.1, 139.7, 127]\n",
        "v2 = [14.6, 16.7, 15.3, 23.2, 19.5]\n",
        "dados = {'Precipitação': v1, 'Escoamento': v2}\n",
        "df = pd.DataFrame(dados)\n",
        "df"
      ]
    },
    {
      "cell_type": "markdown",
      "id": "e267e360-8df4-4571-a64e-161b6104e415",
      "metadata": {
        "id": "e267e360-8df4-4571-a64e-161b6104e415"
      },
      "source": [
        "## Pré-Analise dos dados"
      ]
    },
    {
      "cell_type": "code",
      "execution_count": 32,
      "id": "321f9c74-0c1a-4e8e-9423-1169c8bb4593",
      "metadata": {
        "id": "321f9c74-0c1a-4e8e-9423-1169c8bb4593"
      },
      "outputs": [
        {
          "data": {
            "text/plain": [
              "<bound method NDFrame.head of    Precipitação  Escoamento\n",
              "0          88.9        14.6\n",
              "1         108.5        16.7\n",
              "2         104.1        15.3\n",
              "3         139.7        23.2\n",
              "4         127.0        19.5>"
            ]
          },
          "execution_count": 32,
          "metadata": {},
          "output_type": "execute_result"
        }
      ],
      "source": [
        "df.head"
      ]
    },
    {
      "cell_type": "markdown",
      "id": "7b0e1309-e0ff-4842-a4c3-ee9972aaeae8",
      "metadata": {
        "id": "7b0e1309-e0ff-4842-a4c3-ee9972aaeae8"
      },
      "source": [
        "## Seleção das variveis"
      ]
    },
    {
      "cell_type": "code",
      "execution_count": 33,
      "id": "8cdb3e4e-0f55-43ab-a208-f904cb50e015",
      "metadata": {
        "id": "8cdb3e4e-0f55-43ab-a208-f904cb50e015"
      },
      "outputs": [],
      "source": [
        "y = df['Escoamento'].values\n",
        "x = df['Precipitação'].values"
      ]
    },
    {
      "cell_type": "markdown",
      "id": "946834ae-164f-4060-a6c8-ccd754dff5e2",
      "metadata": {
        "id": "946834ae-164f-4060-a6c8-ccd754dff5e2"
      },
      "source": [
        "## Divisão - Treino e Teste"
      ]
    },
    {
      "cell_type": "code",
      "execution_count": 34,
      "id": "63584b4a-9565-4353-9c8b-0877674c0c16",
      "metadata": {
        "id": "63584b4a-9565-4353-9c8b-0877674c0c16"
      },
      "outputs": [],
      "source": [
        "from sklearn.model_selection import train_test_split\n",
        "\n",
        "x_train,x_test,y_train,y_test = train_test_split(x,y,test_size=0.33,random_state=42)"
      ]
    },
    {
      "cell_type": "markdown",
      "id": "d2b7125c-6ecf-4b8b-8b23-76ea839264a7",
      "metadata": {
        "id": "d2b7125c-6ecf-4b8b-8b23-76ea839264a7"
      },
      "source": [
        "## Seleção do modelo --> Regressão Linear"
      ]
    },
    {
      "cell_type": "code",
      "execution_count": 35,
      "id": "d02bcad7-4036-4a73-8ad1-b80fae1fe868",
      "metadata": {
        "id": "d02bcad7-4036-4a73-8ad1-b80fae1fe868"
      },
      "outputs": [],
      "source": [
        "from sklearn.linear_model import LinearRegression\n",
        "\n",
        "model  = LinearRegression()\n",
        "x_train = x_train.reshape(-1,1)"
      ]
    },
    {
      "cell_type": "markdown",
      "id": "8103c698-61f9-4822-96b8-330323869e54",
      "metadata": {
        "id": "8103c698-61f9-4822-96b8-330323869e54"
      },
      "source": [
        "## Treinamento do modelo"
      ]
    },
    {
      "cell_type": "code",
      "execution_count": 36,
      "id": "3269b7ac-1e86-4fdf-a2aa-e5d830bb8141",
      "metadata": {
        "id": "3269b7ac-1e86-4fdf-a2aa-e5d830bb8141"
      },
      "outputs": [
        {
          "data": {
            "text/html": [
              "<style>#sk-container-id-2 {\n",
              "  /* Definition of color scheme common for light and dark mode */\n",
              "  --sklearn-color-text: #000;\n",
              "  --sklearn-color-text-muted: #666;\n",
              "  --sklearn-color-line: gray;\n",
              "  /* Definition of color scheme for unfitted estimators */\n",
              "  --sklearn-color-unfitted-level-0: #fff5e6;\n",
              "  --sklearn-color-unfitted-level-1: #f6e4d2;\n",
              "  --sklearn-color-unfitted-level-2: #ffe0b3;\n",
              "  --sklearn-color-unfitted-level-3: chocolate;\n",
              "  /* Definition of color scheme for fitted estimators */\n",
              "  --sklearn-color-fitted-level-0: #f0f8ff;\n",
              "  --sklearn-color-fitted-level-1: #d4ebff;\n",
              "  --sklearn-color-fitted-level-2: #b3dbfd;\n",
              "  --sklearn-color-fitted-level-3: cornflowerblue;\n",
              "\n",
              "  /* Specific color for light theme */\n",
              "  --sklearn-color-text-on-default-background: var(--sg-text-color, var(--theme-code-foreground, var(--jp-content-font-color1, black)));\n",
              "  --sklearn-color-background: var(--sg-background-color, var(--theme-background, var(--jp-layout-color0, white)));\n",
              "  --sklearn-color-border-box: var(--sg-text-color, var(--theme-code-foreground, var(--jp-content-font-color1, black)));\n",
              "  --sklearn-color-icon: #696969;\n",
              "\n",
              "  @media (prefers-color-scheme: dark) {\n",
              "    /* Redefinition of color scheme for dark theme */\n",
              "    --sklearn-color-text-on-default-background: var(--sg-text-color, var(--theme-code-foreground, var(--jp-content-font-color1, white)));\n",
              "    --sklearn-color-background: var(--sg-background-color, var(--theme-background, var(--jp-layout-color0, #111)));\n",
              "    --sklearn-color-border-box: var(--sg-text-color, var(--theme-code-foreground, var(--jp-content-font-color1, white)));\n",
              "    --sklearn-color-icon: #878787;\n",
              "  }\n",
              "}\n",
              "\n",
              "#sk-container-id-2 {\n",
              "  color: var(--sklearn-color-text);\n",
              "}\n",
              "\n",
              "#sk-container-id-2 pre {\n",
              "  padding: 0;\n",
              "}\n",
              "\n",
              "#sk-container-id-2 input.sk-hidden--visually {\n",
              "  border: 0;\n",
              "  clip: rect(1px 1px 1px 1px);\n",
              "  clip: rect(1px, 1px, 1px, 1px);\n",
              "  height: 1px;\n",
              "  margin: -1px;\n",
              "  overflow: hidden;\n",
              "  padding: 0;\n",
              "  position: absolute;\n",
              "  width: 1px;\n",
              "}\n",
              "\n",
              "#sk-container-id-2 div.sk-dashed-wrapped {\n",
              "  border: 1px dashed var(--sklearn-color-line);\n",
              "  margin: 0 0.4em 0.5em 0.4em;\n",
              "  box-sizing: border-box;\n",
              "  padding-bottom: 0.4em;\n",
              "  background-color: var(--sklearn-color-background);\n",
              "}\n",
              "\n",
              "#sk-container-id-2 div.sk-container {\n",
              "  /* jupyter's `normalize.less` sets `[hidden] { display: none; }`\n",
              "     but bootstrap.min.css set `[hidden] { display: none !important; }`\n",
              "     so we also need the `!important` here to be able to override the\n",
              "     default hidden behavior on the sphinx rendered scikit-learn.org.\n",
              "     See: https://github.com/scikit-learn/scikit-learn/issues/21755 */\n",
              "  display: inline-block !important;\n",
              "  position: relative;\n",
              "}\n",
              "\n",
              "#sk-container-id-2 div.sk-text-repr-fallback {\n",
              "  display: none;\n",
              "}\n",
              "\n",
              "div.sk-parallel-item,\n",
              "div.sk-serial,\n",
              "div.sk-item {\n",
              "  /* draw centered vertical line to link estimators */\n",
              "  background-image: linear-gradient(var(--sklearn-color-text-on-default-background), var(--sklearn-color-text-on-default-background));\n",
              "  background-size: 2px 100%;\n",
              "  background-repeat: no-repeat;\n",
              "  background-position: center center;\n",
              "}\n",
              "\n",
              "/* Parallel-specific style estimator block */\n",
              "\n",
              "#sk-container-id-2 div.sk-parallel-item::after {\n",
              "  content: \"\";\n",
              "  width: 100%;\n",
              "  border-bottom: 2px solid var(--sklearn-color-text-on-default-background);\n",
              "  flex-grow: 1;\n",
              "}\n",
              "\n",
              "#sk-container-id-2 div.sk-parallel {\n",
              "  display: flex;\n",
              "  align-items: stretch;\n",
              "  justify-content: center;\n",
              "  background-color: var(--sklearn-color-background);\n",
              "  position: relative;\n",
              "}\n",
              "\n",
              "#sk-container-id-2 div.sk-parallel-item {\n",
              "  display: flex;\n",
              "  flex-direction: column;\n",
              "}\n",
              "\n",
              "#sk-container-id-2 div.sk-parallel-item:first-child::after {\n",
              "  align-self: flex-end;\n",
              "  width: 50%;\n",
              "}\n",
              "\n",
              "#sk-container-id-2 div.sk-parallel-item:last-child::after {\n",
              "  align-self: flex-start;\n",
              "  width: 50%;\n",
              "}\n",
              "\n",
              "#sk-container-id-2 div.sk-parallel-item:only-child::after {\n",
              "  width: 0;\n",
              "}\n",
              "\n",
              "/* Serial-specific style estimator block */\n",
              "\n",
              "#sk-container-id-2 div.sk-serial {\n",
              "  display: flex;\n",
              "  flex-direction: column;\n",
              "  align-items: center;\n",
              "  background-color: var(--sklearn-color-background);\n",
              "  padding-right: 1em;\n",
              "  padding-left: 1em;\n",
              "}\n",
              "\n",
              "\n",
              "/* Toggleable style: style used for estimator/Pipeline/ColumnTransformer box that is\n",
              "clickable and can be expanded/collapsed.\n",
              "- Pipeline and ColumnTransformer use this feature and define the default style\n",
              "- Estimators will overwrite some part of the style using the `sk-estimator` class\n",
              "*/\n",
              "\n",
              "/* Pipeline and ColumnTransformer style (default) */\n",
              "\n",
              "#sk-container-id-2 div.sk-toggleable {\n",
              "  /* Default theme specific background. It is overwritten whether we have a\n",
              "  specific estimator or a Pipeline/ColumnTransformer */\n",
              "  background-color: var(--sklearn-color-background);\n",
              "}\n",
              "\n",
              "/* Toggleable label */\n",
              "#sk-container-id-2 label.sk-toggleable__label {\n",
              "  cursor: pointer;\n",
              "  display: flex;\n",
              "  width: 100%;\n",
              "  margin-bottom: 0;\n",
              "  padding: 0.5em;\n",
              "  box-sizing: border-box;\n",
              "  text-align: center;\n",
              "  align-items: start;\n",
              "  justify-content: space-between;\n",
              "  gap: 0.5em;\n",
              "}\n",
              "\n",
              "#sk-container-id-2 label.sk-toggleable__label .caption {\n",
              "  font-size: 0.6rem;\n",
              "  font-weight: lighter;\n",
              "  color: var(--sklearn-color-text-muted);\n",
              "}\n",
              "\n",
              "#sk-container-id-2 label.sk-toggleable__label-arrow:before {\n",
              "  /* Arrow on the left of the label */\n",
              "  content: \"▸\";\n",
              "  float: left;\n",
              "  margin-right: 0.25em;\n",
              "  color: var(--sklearn-color-icon);\n",
              "}\n",
              "\n",
              "#sk-container-id-2 label.sk-toggleable__label-arrow:hover:before {\n",
              "  color: var(--sklearn-color-text);\n",
              "}\n",
              "\n",
              "/* Toggleable content - dropdown */\n",
              "\n",
              "#sk-container-id-2 div.sk-toggleable__content {\n",
              "  max-height: 0;\n",
              "  max-width: 0;\n",
              "  overflow: hidden;\n",
              "  text-align: left;\n",
              "  /* unfitted */\n",
              "  background-color: var(--sklearn-color-unfitted-level-0);\n",
              "}\n",
              "\n",
              "#sk-container-id-2 div.sk-toggleable__content.fitted {\n",
              "  /* fitted */\n",
              "  background-color: var(--sklearn-color-fitted-level-0);\n",
              "}\n",
              "\n",
              "#sk-container-id-2 div.sk-toggleable__content pre {\n",
              "  margin: 0.2em;\n",
              "  border-radius: 0.25em;\n",
              "  color: var(--sklearn-color-text);\n",
              "  /* unfitted */\n",
              "  background-color: var(--sklearn-color-unfitted-level-0);\n",
              "}\n",
              "\n",
              "#sk-container-id-2 div.sk-toggleable__content.fitted pre {\n",
              "  /* unfitted */\n",
              "  background-color: var(--sklearn-color-fitted-level-0);\n",
              "}\n",
              "\n",
              "#sk-container-id-2 input.sk-toggleable__control:checked~div.sk-toggleable__content {\n",
              "  /* Expand drop-down */\n",
              "  max-height: 200px;\n",
              "  max-width: 100%;\n",
              "  overflow: auto;\n",
              "}\n",
              "\n",
              "#sk-container-id-2 input.sk-toggleable__control:checked~label.sk-toggleable__label-arrow:before {\n",
              "  content: \"▾\";\n",
              "}\n",
              "\n",
              "/* Pipeline/ColumnTransformer-specific style */\n",
              "\n",
              "#sk-container-id-2 div.sk-label input.sk-toggleable__control:checked~label.sk-toggleable__label {\n",
              "  color: var(--sklearn-color-text);\n",
              "  background-color: var(--sklearn-color-unfitted-level-2);\n",
              "}\n",
              "\n",
              "#sk-container-id-2 div.sk-label.fitted input.sk-toggleable__control:checked~label.sk-toggleable__label {\n",
              "  background-color: var(--sklearn-color-fitted-level-2);\n",
              "}\n",
              "\n",
              "/* Estimator-specific style */\n",
              "\n",
              "/* Colorize estimator box */\n",
              "#sk-container-id-2 div.sk-estimator input.sk-toggleable__control:checked~label.sk-toggleable__label {\n",
              "  /* unfitted */\n",
              "  background-color: var(--sklearn-color-unfitted-level-2);\n",
              "}\n",
              "\n",
              "#sk-container-id-2 div.sk-estimator.fitted input.sk-toggleable__control:checked~label.sk-toggleable__label {\n",
              "  /* fitted */\n",
              "  background-color: var(--sklearn-color-fitted-level-2);\n",
              "}\n",
              "\n",
              "#sk-container-id-2 div.sk-label label.sk-toggleable__label,\n",
              "#sk-container-id-2 div.sk-label label {\n",
              "  /* The background is the default theme color */\n",
              "  color: var(--sklearn-color-text-on-default-background);\n",
              "}\n",
              "\n",
              "/* On hover, darken the color of the background */\n",
              "#sk-container-id-2 div.sk-label:hover label.sk-toggleable__label {\n",
              "  color: var(--sklearn-color-text);\n",
              "  background-color: var(--sklearn-color-unfitted-level-2);\n",
              "}\n",
              "\n",
              "/* Label box, darken color on hover, fitted */\n",
              "#sk-container-id-2 div.sk-label.fitted:hover label.sk-toggleable__label.fitted {\n",
              "  color: var(--sklearn-color-text);\n",
              "  background-color: var(--sklearn-color-fitted-level-2);\n",
              "}\n",
              "\n",
              "/* Estimator label */\n",
              "\n",
              "#sk-container-id-2 div.sk-label label {\n",
              "  font-family: monospace;\n",
              "  font-weight: bold;\n",
              "  display: inline-block;\n",
              "  line-height: 1.2em;\n",
              "}\n",
              "\n",
              "#sk-container-id-2 div.sk-label-container {\n",
              "  text-align: center;\n",
              "}\n",
              "\n",
              "/* Estimator-specific */\n",
              "#sk-container-id-2 div.sk-estimator {\n",
              "  font-family: monospace;\n",
              "  border: 1px dotted var(--sklearn-color-border-box);\n",
              "  border-radius: 0.25em;\n",
              "  box-sizing: border-box;\n",
              "  margin-bottom: 0.5em;\n",
              "  /* unfitted */\n",
              "  background-color: var(--sklearn-color-unfitted-level-0);\n",
              "}\n",
              "\n",
              "#sk-container-id-2 div.sk-estimator.fitted {\n",
              "  /* fitted */\n",
              "  background-color: var(--sklearn-color-fitted-level-0);\n",
              "}\n",
              "\n",
              "/* on hover */\n",
              "#sk-container-id-2 div.sk-estimator:hover {\n",
              "  /* unfitted */\n",
              "  background-color: var(--sklearn-color-unfitted-level-2);\n",
              "}\n",
              "\n",
              "#sk-container-id-2 div.sk-estimator.fitted:hover {\n",
              "  /* fitted */\n",
              "  background-color: var(--sklearn-color-fitted-level-2);\n",
              "}\n",
              "\n",
              "/* Specification for estimator info (e.g. \"i\" and \"?\") */\n",
              "\n",
              "/* Common style for \"i\" and \"?\" */\n",
              "\n",
              ".sk-estimator-doc-link,\n",
              "a:link.sk-estimator-doc-link,\n",
              "a:visited.sk-estimator-doc-link {\n",
              "  float: right;\n",
              "  font-size: smaller;\n",
              "  line-height: 1em;\n",
              "  font-family: monospace;\n",
              "  background-color: var(--sklearn-color-background);\n",
              "  border-radius: 1em;\n",
              "  height: 1em;\n",
              "  width: 1em;\n",
              "  text-decoration: none !important;\n",
              "  margin-left: 0.5em;\n",
              "  text-align: center;\n",
              "  /* unfitted */\n",
              "  border: var(--sklearn-color-unfitted-level-1) 1pt solid;\n",
              "  color: var(--sklearn-color-unfitted-level-1);\n",
              "}\n",
              "\n",
              ".sk-estimator-doc-link.fitted,\n",
              "a:link.sk-estimator-doc-link.fitted,\n",
              "a:visited.sk-estimator-doc-link.fitted {\n",
              "  /* fitted */\n",
              "  border: var(--sklearn-color-fitted-level-1) 1pt solid;\n",
              "  color: var(--sklearn-color-fitted-level-1);\n",
              "}\n",
              "\n",
              "/* On hover */\n",
              "div.sk-estimator:hover .sk-estimator-doc-link:hover,\n",
              ".sk-estimator-doc-link:hover,\n",
              "div.sk-label-container:hover .sk-estimator-doc-link:hover,\n",
              ".sk-estimator-doc-link:hover {\n",
              "  /* unfitted */\n",
              "  background-color: var(--sklearn-color-unfitted-level-3);\n",
              "  color: var(--sklearn-color-background);\n",
              "  text-decoration: none;\n",
              "}\n",
              "\n",
              "div.sk-estimator.fitted:hover .sk-estimator-doc-link.fitted:hover,\n",
              ".sk-estimator-doc-link.fitted:hover,\n",
              "div.sk-label-container:hover .sk-estimator-doc-link.fitted:hover,\n",
              ".sk-estimator-doc-link.fitted:hover {\n",
              "  /* fitted */\n",
              "  background-color: var(--sklearn-color-fitted-level-3);\n",
              "  color: var(--sklearn-color-background);\n",
              "  text-decoration: none;\n",
              "}\n",
              "\n",
              "/* Span, style for the box shown on hovering the info icon */\n",
              ".sk-estimator-doc-link span {\n",
              "  display: none;\n",
              "  z-index: 9999;\n",
              "  position: relative;\n",
              "  font-weight: normal;\n",
              "  right: .2ex;\n",
              "  padding: .5ex;\n",
              "  margin: .5ex;\n",
              "  width: min-content;\n",
              "  min-width: 20ex;\n",
              "  max-width: 50ex;\n",
              "  color: var(--sklearn-color-text);\n",
              "  box-shadow: 2pt 2pt 4pt #999;\n",
              "  /* unfitted */\n",
              "  background: var(--sklearn-color-unfitted-level-0);\n",
              "  border: .5pt solid var(--sklearn-color-unfitted-level-3);\n",
              "}\n",
              "\n",
              ".sk-estimator-doc-link.fitted span {\n",
              "  /* fitted */\n",
              "  background: var(--sklearn-color-fitted-level-0);\n",
              "  border: var(--sklearn-color-fitted-level-3);\n",
              "}\n",
              "\n",
              ".sk-estimator-doc-link:hover span {\n",
              "  display: block;\n",
              "}\n",
              "\n",
              "/* \"?\"-specific style due to the `<a>` HTML tag */\n",
              "\n",
              "#sk-container-id-2 a.estimator_doc_link {\n",
              "  float: right;\n",
              "  font-size: 1rem;\n",
              "  line-height: 1em;\n",
              "  font-family: monospace;\n",
              "  background-color: var(--sklearn-color-background);\n",
              "  border-radius: 1rem;\n",
              "  height: 1rem;\n",
              "  width: 1rem;\n",
              "  text-decoration: none;\n",
              "  /* unfitted */\n",
              "  color: var(--sklearn-color-unfitted-level-1);\n",
              "  border: var(--sklearn-color-unfitted-level-1) 1pt solid;\n",
              "}\n",
              "\n",
              "#sk-container-id-2 a.estimator_doc_link.fitted {\n",
              "  /* fitted */\n",
              "  border: var(--sklearn-color-fitted-level-1) 1pt solid;\n",
              "  color: var(--sklearn-color-fitted-level-1);\n",
              "}\n",
              "\n",
              "/* On hover */\n",
              "#sk-container-id-2 a.estimator_doc_link:hover {\n",
              "  /* unfitted */\n",
              "  background-color: var(--sklearn-color-unfitted-level-3);\n",
              "  color: var(--sklearn-color-background);\n",
              "  text-decoration: none;\n",
              "}\n",
              "\n",
              "#sk-container-id-2 a.estimator_doc_link.fitted:hover {\n",
              "  /* fitted */\n",
              "  background-color: var(--sklearn-color-fitted-level-3);\n",
              "}\n",
              "</style><div id=\"sk-container-id-2\" class=\"sk-top-container\"><div class=\"sk-text-repr-fallback\"><pre>LinearRegression()</pre><b>In a Jupyter environment, please rerun this cell to show the HTML representation or trust the notebook. <br />On GitHub, the HTML representation is unable to render, please try loading this page with nbviewer.org.</b></div><div class=\"sk-container\" hidden><div class=\"sk-item\"><div class=\"sk-estimator fitted sk-toggleable\"><input class=\"sk-toggleable__control sk-hidden--visually\" id=\"sk-estimator-id-2\" type=\"checkbox\" checked><label for=\"sk-estimator-id-2\" class=\"sk-toggleable__label fitted sk-toggleable__label-arrow\"><div><div>LinearRegression</div></div><div><a class=\"sk-estimator-doc-link fitted\" rel=\"noreferrer\" target=\"_blank\" href=\"https://scikit-learn.org/1.6/modules/generated/sklearn.linear_model.LinearRegression.html\">?<span>Documentation for LinearRegression</span></a><span class=\"sk-estimator-doc-link fitted\">i<span>Fitted</span></span></div></label><div class=\"sk-toggleable__content fitted\"><pre>LinearRegression()</pre></div> </div></div></div></div>"
            ],
            "text/plain": [
              "LinearRegression()"
            ]
          },
          "execution_count": 36,
          "metadata": {},
          "output_type": "execute_result"
        }
      ],
      "source": [
        "model.fit(x_train,y_train)"
      ]
    },
    {
      "cell_type": "markdown",
      "id": "04b9961b-0801-44f7-bb05-7b20cf44e409",
      "metadata": {
        "id": "04b9961b-0801-44f7-bb05-7b20cf44e409"
      },
      "source": [
        "## Metricas do modelo"
      ]
    },
    {
      "cell_type": "code",
      "execution_count": 37,
      "id": "95865d45-278e-4ebd-95ea-d2f81ad0b5c2",
      "metadata": {
        "id": "95865d45-278e-4ebd-95ea-d2f81ad0b5c2"
      },
      "outputs": [
        {
          "name": "stdout",
          "output_type": "stream",
          "text": [
            "Coefciente angular : 0.18\n",
            "Coefciente linear : -2.11\n"
          ]
        }
      ],
      "source": [
        "coef_angular = model.coef_[0]\n",
        "print(\"Coefciente angular : {:0.2f}\".format(coef_angular))\n",
        "coef_linear = model.intercept_\n",
        "print(\"Coefciente linear : {:0.2f}\".format(coef_linear))"
      ]
    },
    {
      "cell_type": "markdown",
      "id": "b48f4a1b-21ba-4d10-a728-167fb7753be6",
      "metadata": {
        "id": "b48f4a1b-21ba-4d10-a728-167fb7753be6"
      },
      "source": [
        "## Previsão dos novos dados"
      ]
    },
    {
      "cell_type": "code",
      "execution_count": 38,
      "id": "928bab2a-3079-4a3f-898a-fd6aa8b64540",
      "metadata": {
        "id": "928bab2a-3079-4a3f-898a-fd6aa8b64540"
      },
      "outputs": [
        {
          "data": {
            "text/plain": [
              "array([17.27121676, 20.57642092])"
            ]
          },
          "execution_count": 38,
          "metadata": {},
          "output_type": "execute_result"
        }
      ],
      "source": [
        "x_test = x_test.reshape(-1,1)\n",
        "model.predict(x_test)"
      ]
    },
    {
      "cell_type": "markdown",
      "id": "fa39c90c",
      "metadata": {
        "id": "fa39c90c",
        "tags": []
      },
      "source": [
        "# QUESTÃO 02"
      ]
    },
    {
      "cell_type": "markdown",
      "id": "daa1d8be-4aa5-4b01-9723-6f9490cdaf2b",
      "metadata": {
        "id": "daa1d8be-4aa5-4b01-9723-6f9490cdaf2b"
      },
      "source": [
        " É esperado que a massa muscular de uma pessoa diminua com a idade. Para estudar essa relação, uma nutricionista selecionou 18 mulheres, com idade entre 40 e 79 anos, e observou em cada uma delas a idade (X) e a massa muscular (Y)."
      ]
    },
    {
      "cell_type": "markdown",
      "id": "679960fb-b89f-4a51-a87b-7c064ad1164c",
      "metadata": {
        "id": "679960fb-b89f-4a51-a87b-7c064ad1164c"
      },
      "source": [
        "- a. Construa o diagrama de dispersão e interprete-o.\n",
        "\n",
        "- b. Calcule o coeficiente de correlação linear entre X e Y.\n",
        "\n",
        "- c. Ajuste uma reta de regressão para a relação entre as variáveis Y: massa muscular (dependente) e X: idade (independente).\n",
        "\n",
        "- d. Considerando a reta estimada dada no item (c), estime a massa muscular média de mulheres com 50 anos."
      ]
    },
    {
      "cell_type": "code",
      "execution_count": 39,
      "id": "95032418",
      "metadata": {
        "id": "95032418"
      },
      "outputs": [],
      "source": [
        "# Dados de fornecidos e formatando para formato adequado.\n",
        "\n",
        "X = np.array([71,64,43,67,56,73,68,56,76,65,45,58,45,53,49,78,73,68]).reshape(-1,1)\n",
        "Y = np.array([82,91,100,68,87,73,78,80,65,84,116, 76,97,100,105,77, 73,78])"
      ]
    },
    {
      "cell_type": "code",
      "execution_count": 40,
      "id": "0a2a5437",
      "metadata": {},
      "outputs": [
        {
          "data": {
            "text/plain": [
              "<matplotlib.legend.Legend at 0x1ce50a1caa0>"
            ]
          },
          "execution_count": 40,
          "metadata": {},
          "output_type": "execute_result"
        },
        {
          "data": {
            "image/png": "[encoded data removed]",
            "text/plain": [
              "<Figure size 800x600 with 1 Axes>"
            ]
          },
          "metadata": {},
          "output_type": "display_data"
        }
      ],
      "source": [
        "import matplotlib.pyplot as plt\n",
        "\n",
        "plt.figure(figsize=(8,6))\n",
        "plt.scatter(X,Y,label=('y(x)'))\n",
        "plt.xlabel('X')\n",
        "plt.ylabel('Y')\n",
        "plt.legend()"
      ]
    },
    {
      "cell_type": "code",
      "execution_count": 42,
      "id": "1dfab728",
      "metadata": {},
      "outputs": [
        {
          "name": "stdout",
          "output_type": "stream",
          "text": [
            "correlação : -0.84\n"
          ]
        }
      ],
      "source": [
        "correlation = np.corrcoef(X.flatten(),Y)[0,1]\n",
        "print(f\"correlação : {correlation:.2f}\")"
      ]
    },
    {
      "cell_type": "code",
      "execution_count": 43,
      "id": "4a9cdde7",
      "metadata": {},
      "outputs": [
        {
          "data": {
            "text/plain": [
              "Text(0, 0.5, 'Y')"
            ]
          },
          "execution_count": 43,
          "metadata": {},
          "output_type": "execute_result"
        },
        {
          "data": {
            "image/png": "[encoded data removed]",
            "text/plain": [
              "<Figure size 800x600 with 1 Axes>"
            ]
          },
          "metadata": {},
          "output_type": "display_data"
        }
      ],
      "source": [
        "model2 = LinearRegression()\n",
        "model2.fit(X,Y)\n",
        "y_vals = model2.predict(X)\n",
        "\n",
        "plt.figure(figsize=(8,6))\n",
        "plt.scatter(X,Y)\n",
        "plt.plot(X,y_vals,color='red')\n",
        "plt.xlabel('X')\n",
        "plt.ylabel('Y')\n"
      ]
    },
    {
      "cell_type": "code",
      "execution_count": null,
      "id": "c3dbcbcb",
      "metadata": {},
      "outputs": [
        {
          "name": "stdout",
          "output_type": "stream",
          "text": [
            "possivel massa muscular de uma mulher de 50 anos: [96.86368784]\n"
          ]
        }
      ],
      "source": [
        "a = model2.predict(np.array([50]).reshape(-1,1))\n",
        "print(\"Possivel massa muscular de uma mulher de 50 anos:\",a)"
      ]
    },
    {
      "cell_type": "markdown",
      "id": "344043f2",
      "metadata": {
        "id": "344043f2",
        "tags": []
      },
      "source": [
        "# QUESTÃO 03"
      ]
    },
    {
      "cell_type": "markdown",
      "id": "28b36d2b-394f-4d0e-88eb-16d26e544e4a",
      "metadata": {
        "id": "28b36d2b-394f-4d0e-88eb-16d26e544e4a"
      },
      "source": [
        "Os dados abaixo correspondem às variáveis renda familiar e gasto com alimentação numa amostra de dez famílias, representadas em salários mínimos.\n",
        "\n",
        "(a)\n",
        "Qual a previsão do gasto com alimentação para uma família com renda de 170 reais?\n",
        "\n",
        "(b)\n",
        "Qual a previsão do gasto para famílias com excepcional renda, por exemplo 1.000 reais? Você acha esse valor razoável? Por quê?\n"
      ]
    },
    {
      "cell_type": "code",
      "execution_count": null,
      "id": "ac9b1858",
      "metadata": {
        "id": "ac9b1858"
      },
      "outputs": [
        {
          "name": "stdout",
          "output_type": "stream",
          "text": [
            "Renda = 170 : [[67.55843523]]\n",
            "Renda = 1000 : [[392.74677083]]\n",
            "[[75.39429874]]\n"
          ]
        }
      ],
      "source": [
        "# Dados de fornecidos e formatando para formato adequado.\n",
        "\n",
        "Renda = np.array([3,5,10,20,30,50,70,100,150,200]).reshape(-1, 1)# feature\n",
        "Gasto = np.array([1.5,2.0,6.0,10.0,15.0,20.0,25.0,40.0,60.0,80.0]).reshape(-1, 1) #variavel alvo\n",
        "\n",
        "model3 = LinearRegression()\n",
        "model3.fit(Renda,Gasto)\n",
        "\n",
        "b = model3.predict(np.array([1000]).reshape(-1,1)) #renda de mil reais\n",
        "c = model3.predict(np.array([170]).reshape(-1,1)) # renda de 170\n",
        "d = model3.predict(np.array([190]).reshape(-1,1)) # renda de 170\n",
        "\n",
        "print('Renda = 170 :',c)\n",
        "print('Renda = 1000 :',b)\n",
        "print(d)"
      ]
    },
    {
      "cell_type": "markdown",
      "id": "1a54eb41",
      "metadata": {},
      "source": [
        "b) ate que é razoavel apesar de não fazer muito sentido , afinal 1000 é um outlier "
      ]
    }
  ],
  "metadata": {
    "colab": {
      "provenance": []
    },
    "kernelspec": {
      "display_name": "Python 3",
      "language": "python",
      "name": "python3"
    },
    "language_info": {
      "codemirror_mode": {
        "name": "ipython",
        "version": 3
      },
      "file_extension": ".py",
      "mimetype": "text/x-python",
      "name": "python",
      "nbconvert_exporter": "python",
      "pygments_lexer": "ipython3",
      "version": "3.12.10"
    }
  },
  "nbformat": 4,
  "nbformat_minor": 5
}
