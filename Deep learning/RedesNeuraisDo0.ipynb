{
  "cells": [
    {
      "cell_type": "code",
      "execution_count": 20,
      "metadata": {
        "id": "r6JXieuES3v4"
      },
      "outputs": [],
      "source": [
        "import numpy as numpy\n",
        "import torch\n",
        "import torch.nn.functional as F\n",
        "import torchvision\n",
        "import matplotlib.pyplot as plt\n",
        "from time import time\n",
        "from torchvision import datasets,transforms\n",
        "from torch import nn, optim"
      ]
    },
    {
      "cell_type": "code",
      "execution_count": 21,
      "metadata": {
        "id": "IcS5mdggThtm"
      },
      "outputs": [],
      "source": [
        "transform = transforms.ToTensor() #converter imagem para tensor\n",
        "trainset = datasets.MNIST('./MNIST_data/' , download=True,train=True,transform=transform) #parte de treino do dataset\n",
        "trainloader = torch.utils.data.DataLoader(trainset,batch_size=64,shuffle=True) #buffer para pegar os dados por partes\n",
        "\n",
        "valset = datasets.MNIST('./MNIST_data/' , download=True,train=False,transform=transform) #parte de validacao do dataset\n",
        "valloader = torch.utils.data.DataLoader(valset,batch_size=64,shuffle=True) #buffer para pegar os dados por partes"
      ]
    },
    {
      "cell_type": "code",
      "execution_count": 22,
      "metadata": {
        "colab": {
          "base_uri": "https://localhost:8080/",
          "height": 448
        },
        "id": "aJLxu8x1ZH15",
        "outputId": "71f9543f-5f27-4c45-e886-b01775b66c4b"
      },
      "outputs": [
        {
          "data": {
            "text/plain": [
              "<matplotlib.image.AxesImage at 0x7befe8e392d0>"
            ]
          },
          "execution_count": 22,
          "metadata": {},
          "output_type": "execute_result"
        },
        {
          "data": {
            "image/png": "[encoded data removed]",
            "text/plain": [
              "<Figure size 640x480 with 1 Axes>"
            ]
          },
          "metadata": {},
          "output_type": "display_data"
        }
      ],
      "source": [
        "dataiter = iter(trainloader)\n",
        "imagens, etiquetas = next(dataiter)\n",
        "plt.imshow(imagens[0].numpy().squeeze(),cmap ='gray_r' )"
      ]
    },
    {
      "cell_type": "code",
      "execution_count": 23,
      "metadata": {
        "colab": {
          "base_uri": "https://localhost:8080/"
        },
        "id": "ymY-ZZImahP_",
        "outputId": "4506cb95-b949-4af2-f769-180be429fd96"
      },
      "outputs": [
        {
          "name": "stdout",
          "output_type": "stream",
          "text": [
            "torch.Size([1, 28, 28])\n",
            "torch.Size([])\n"
          ]
        }
      ],
      "source": [
        "print(imagens[0].shape) #verificar as dimensoes do shape do tensor de cada imagem\n",
        "print(etiquetas[0].shape) #verificar as dimensoes do shape do tensor de cada etiqueta"
      ]
    },
    {
      "cell_type": "code",
      "execution_count": 24,
      "metadata": {
        "id": "SWtT8_TaiYhu"
      },
      "outputs": [],
      "source": [
        "class Model(nn.Module):\n",
        "  def __init__(self):\n",
        "    super(Model,self).__init__()\n",
        "    self.linear1 = nn.Linear(28*28,128) #camada de entrada 784 neuronios que se ligam a 128\n",
        "    self.linear2 = nn.Linear(128,64) #camada interna 1, 128 neuronios que se ligam a 64\n",
        "    self.linear3 = nn.Linear(64,10) #camada interna 2, 64 neuronios que se ligam a 10\n",
        "    #para a camada de saida n precisa definir nada , so pegar o output da camada interna 2\n",
        "\n",
        "  def forward(self,X):\n",
        "    X = F.relu(self.linear1(X)) #funcao de ativacao da camada de entrada para a camada interna 1\n",
        "    X = F.relu(self.linear2(X)) #funcao de ativacao da camada interna 1 para a camada interna 2\n",
        "    X = self.linear3(X) #função de ativação da camada  interna 2 para a camada de saida, nesser caso f(x) = x\n",
        "    return F.log_softmax(X,dim=1)#dados utilzados para calcular a perda"
      ]
    },
    {
      "cell_type": "code",
      "execution_count": 25,
      "metadata": {
        "id": "HXJfNVsSlNl_"
      },
      "outputs": [],
      "source": [
        "def treino(model,trainloader,device):\n",
        "\n",
        "  otimizador = optim.SGD(model.parameters(),lr=0.01,momentum=0.5) #define politica de atualização dos pesos e bias\n",
        "  inicio = time() #timer\n",
        "  criterio = nn.NILLLoss() #definindo criterio para calcular a perda\n",
        "  EPOCHS = 10 # numero de epocas\n",
        "  model.train()#ativando modo de treinamento\n",
        "\n",
        "  for epoch in range(EPOCHS):\n",
        "    perda_acumulada = 0.0 #acumulador de perda\n",
        "\n",
        "    for imagens,etiquetas in trainloader :\n",
        "      imagens = imagens.view(imagens.shape[0], -1) # convertendo imagens para vetores e 28*28 casas para\n",
        "      otimizador.zero_grad()#zerando os gradientes\n",
        "\n",
        "      output = model(imagens.to(device))#colocando dados no modelo\n",
        "      perda_instantanea = criterio(output,etiquetas.to(device)) #calculando a perda da epoch em questao\n",
        "\n",
        "      perda_instantanea.backward() #back propagation a partir da perda\n",
        "\n",
        "      otimizador.step()# atualizando os pesos e bias\n",
        "\n",
        "      perda_acumulada += perda_instantanea.item()\n",
        "\n",
        "    else:\n",
        "      print(\"Epoch {} - Perda Resultante: {}\".format(epoch+1,perda_acumulada/len(trainloader)))\n",
        "\n",
        "  print(\"\\nTempo de treino (em minutos)=\",(time()-inicio)/60)"
      ]
    },
    {
      "cell_type": "code",
      "execution_count": 26,
      "metadata": {
        "id": "CNSngokLp4GS"
      },
      "outputs": [],
      "source": [
        "def vallidacao(model,valloader,device):\n",
        "  conta_corretas,conta_todas = 0,0\n",
        "  for imagens,etiquetas in valloader:\n",
        "    for i in range(len(etiquetas)):\n",
        "      img = imagens[i].view(1,784)\n",
        "\n",
        "      with torch.no_grad():\n",
        "          logps = model(img.to(device))\n",
        "\n",
        "      ps = torch.exp(logps)\n",
        "      probab = list(ps.cpu().numpy()[0])\n",
        "      etiqueta_pred = probab.index(max(probab))\n",
        "      etiqueta_certa = etiquetas.numpy()[i]\n",
        "      if(etiqueta_certa == etiqueta_pred):\n",
        "        conta_corretas += 1\n",
        "      conta_todas += 1\n",
        "\n",
        "  print(\"Total de imagens testadas =\",conta_todas)\n",
        "  print(\"\\nPrecisão do modelo = {}%\".format(conta_corretas*100/conta_todas))"
      ]
    },
    {
      "cell_type": "code",
      "execution_count": 27,
      "metadata": {
        "colab": {
          "base_uri": "https://localhost:8080/"
        },
        "id": "5k7j1xUKqmuq",
        "outputId": "795bba33-f3bf-45a0-be9f-77fabefb0627"
      },
      "outputs": [
        {
          "data": {
            "text/plain": [
              "Model(\n",
              "  (linear1): Linear(in_features=784, out_features=128, bias=True)\n",
              "  (linear2): Linear(in_features=128, out_features=64, bias=True)\n",
              "  (linear3): Linear(in_features=64, out_features=10, bias=True)\n",
              ")"
            ]
          },
          "execution_count": 27,
          "metadata": {},
          "output_type": "execute_result"
        }
      ],
      "source": [
        "model = Model()\n",
        "device = torch.device(\"cuda\" if torch.cuda.is_available() else \"cpu\")\n",
        "model.to(device)"
      ]
    }
  ],
  "metadata": {
    "colab": {
      "provenance": []
    },
    "kernelspec": {
      "display_name": "Python 3",
      "name": "python3"
    },
    "language_info": {
      "name": "python"
    }
  },
  "nbformat": 4,
  "nbformat_minor": 0
}
